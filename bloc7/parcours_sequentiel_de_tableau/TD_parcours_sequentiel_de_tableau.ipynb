{
 "cells": [
  {
   "cell_type": "markdown",
   "metadata": {},
   "source": [
    "# Algorithme de parcours d'un tableau\n",
    "\n",
    "## Objectif du TP \n",
    "\n",
    "**Ecrire en langage python les fonctions suivantes**"
   ]
  },
  {
   "cell_type": "code",
   "execution_count": 2,
   "metadata": {
    "code_folding": []
   },
   "outputs": [],
   "source": [
    "def recherche(liste, valeur):\n",
    "    \"\"\"\n",
    "    Description de la fonction : Détermine si la valeur est présente dans la liste\n",
    "    paramètre liste (list)\n",
    "    paramètre valeur (type quelconque)\n",
    "    Return (bool)\n",
    "    \"\"\"\n",
    "    # A compléter\n",
    "\n",
    "def recherche_indice(liste, valeur):\n",
    "    \"\"\"\n",
    "    Description de la fonction : Renvoie l'indice de la valeur recherchée (None si valeur non présente)\n",
    "    paramètre liste (list) : liste non vide\n",
    "    paramètre valeur (type quelconque)\n",
    "    Return (int ou Nonetype)\n",
    "    \"\"\"\n",
    "    # A compléter\n",
    "\n",
    "def recherche_minimum(liste):\n",
    "    \"\"\"\n",
    "    Description de la fonction : Renvoie la plus petite valeur de la liste\n",
    "    paramètre liste (list) : liste non vide d'entiers(int), de nombres réels(float) ou de chaîne de caractères(str)\n",
    "    Return (int)\n",
    "    \"\"\"\n",
    "    # A compléter\n",
    "\n",
    "def recherche_maximum(liste):\n",
    "    \"\"\"\n",
    "    Description de la fonction : Renvoie la plus grande valeur de la liste\n",
    "    paramètre liste (list) : liste non vide d'entiers(int), de nombres réels(float) ou de chaîne de caractères(str)\n",
    "    Return (int)\n",
    "    \"\"\"\n",
    "    # A compléter\n",
    "\n",
    "def moyenne(liste):\n",
    "    \"\"\"\n",
    "    Description de la fonction : Calcule la moyenne des valeurs contenues dans la liste\n",
    "    paramètre liste (list) : liste non vide d'entiers(int) ou de nombres réels(float)\n",
    "    Return (int)\n",
    "    \"\"\"\n",
    "    # A compléter"
   ]
  },
  {
   "cell_type": "markdown",
   "metadata": {},
   "source": [
    "## Travail à faire\n",
    "\n",
    "Pour atteindre l'objectif, il faut : \n",
    "\n",
    "1. **Ecrire** l'algorithme **en français** (façon \"recette de cuisine\"). Cette étape est indispensable : ne pas passer à la question suivante sans l'avoir fait!!<br>\n",
    "2. **Traduire** votre algorithme en langage python sur ordinateur. Normalement, si votre algorithme a bien été écrit à la question précédente, cette étape est simple : il suffit simplement de respecter la syntaxe python.\n",
    "3. **Tester** le bon fonctionnement de votre fonction sur quelques listes (voir ci-dessous).\n",
    "\n",
    "### Indices :\n",
    "\n",
    "D'après le cours d'introduction aux algorithmes :\n",
    "\n",
    "* Faut-il parcourir les éléments de la liste OU parcourir les indices des éléments de la liste ?\n",
    "* Certaines **astuces** peuvent être nécessaires (compteur, accumulateur)"
   ]
  },
  {
   "cell_type": "markdown",
   "metadata": {},
   "source": [
    "## Tests des fonctions\n",
    "\n",
    "Pour tester vos fonctions, vous pouvez générer des listes d'entiers tirés au hasard. (Le code est donné ci-dessous)"
   ]
  },
  {
   "cell_type": "code",
   "execution_count": 3,
   "metadata": {},
   "outputs": [
    {
     "name": "stdout",
     "output_type": "stream",
     "text": [
      "[241, 214, 95, 228, 81, 462, 314, 285, 202, 293, 3, 397, 62, 345, 75, 488, 162, 344, 206, 163, 257, 67, 255, 75, 384, 75, 89, 262, 275, 449, 431, 90, 27, 65, 301, 291, 135, 45, 448, 200, 409, 186, 469, 340, 25, 100, 404, 205, 368, 494, 21, 454, 186, 339, 262, 341, 358, 45, 198, 265, 300, 195, 89, 338, 37, 379, 391, 250, 357, 269, 355, 145, 198, 181, 249, 275, 457, 74, 420, 283, 239, 376, 460, 395, 199, 207, 17, 362, 176, 406, 44, 293, 73, 117, 457, 329, 266, 407, 43, 374]\n"
     ]
    }
   ],
   "source": [
    "# Création d'une liste de 100 entiers tirés au hasard entre 0 et 500\n",
    "from random import randrange\n",
    "liste = []\n",
    "for i in range(100):\n",
    "    liste.append(randrange(500))\n",
    "\n",
    "print(liste)"
   ]
  },
  {
   "cell_type": "markdown",
   "metadata": {},
   "source": [
    "### Exemples de tests"
   ]
  },
  {
   "cell_type": "code",
   "execution_count": 5,
   "metadata": {},
   "outputs": [
    {
     "data": {
      "text/plain": [
       "False"
      ]
     },
     "execution_count": 5,
     "metadata": {},
     "output_type": "execute_result"
    }
   ],
   "source": [
    "recherche(liste, 35)"
   ]
  },
  {
   "cell_type": "code",
   "execution_count": 6,
   "metadata": {},
   "outputs": [
    {
     "data": {
      "text/plain": [
       "37"
      ]
     },
     "execution_count": 6,
     "metadata": {},
     "output_type": "execute_result"
    }
   ],
   "source": [
    "recherche_indice(liste, 45)"
   ]
  },
  {
   "cell_type": "code",
   "execution_count": 7,
   "metadata": {},
   "outputs": [
    {
     "data": {
      "text/plain": [
       "3"
      ]
     },
     "execution_count": 7,
     "metadata": {},
     "output_type": "execute_result"
    }
   ],
   "source": [
    "recherche_minimum(liste)"
   ]
  },
  {
   "cell_type": "code",
   "execution_count": 8,
   "metadata": {},
   "outputs": [
    {
     "data": {
      "text/plain": [
       "494"
      ]
     },
     "execution_count": 8,
     "metadata": {},
     "output_type": "execute_result"
    }
   ],
   "source": [
    "recherche_maximum(liste)"
   ]
  },
  {
   "cell_type": "code",
   "execution_count": 9,
   "metadata": {},
   "outputs": [
    {
     "data": {
      "text/plain": [
       "248.32"
      ]
     },
     "execution_count": 9,
     "metadata": {},
     "output_type": "execute_result"
    }
   ],
   "source": [
    "moyenne(liste)"
   ]
  }
 ],
 "metadata": {
  "kernelspec": {
   "display_name": "Python 3",
   "language": "python",
   "name": "python3"
  },
  "language_info": {
   "codemirror_mode": {
    "name": "ipython",
    "version": 3
   },
   "file_extension": ".py",
   "mimetype": "text/x-python",
   "name": "python",
   "nbconvert_exporter": "python",
   "pygments_lexer": "ipython3",
   "version": "3.8.5"
  }
 },
 "nbformat": 4,
 "nbformat_minor": 2
}
